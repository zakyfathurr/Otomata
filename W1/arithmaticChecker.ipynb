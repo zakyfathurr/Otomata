{
  "nbformat": 4,
  "nbformat_minor": 0,
  "metadata": {
    "colab": {
      "provenance": []
    },
    "kernelspec": {
      "name": "python3",
      "display_name": "Python 3"
    },
    "language_info": {
      "name": "python"
    }
  },
  "cells": [
    {
      "cell_type": "markdown",
      "source": [
        "Rule 1 Any number (positive, negative, or zero) is in AE.</br>\n",
        "Rule 2 If x is in AE, then so are (x) and -(x).</br>\n",
        "Rule 3 If x and y are in AE, then so are</br>\n",
        "(i) x + y (if the first symbol in y is not -)</br>\n",
        "(ii) x - y (if the first symbol in y is not -)</br>\n",
        "(iii) x * y</br>\n",
        "(iv) x / y</br>\n",
        "(v) x**y (our notation for exponentiation)"
      ],
      "metadata": {
        "id": "RtWknaXSdzl-"
      }
    },
    {
      "cell_type": "code",
      "source": [
        "# Test Case\n",
        "arithmetics = [\n",
        "    \"3 + 5\",                    # Valid\n",
        "    \"(3 + 5) + 6\",              # Valid\n",
        "    \"2(/8 + 9)\",                # Invalid\n",
        "    \"(3 + (4 - )8)\",            # Invalid\n",
        "    \"2) -(4\",                   # Invalid (kurung tak seimbang)\n",
        "    \"8/4/2\",                    # Valid\n",
        "    \"3 + 4 * 5\",                # Valid\n",
        "    \"(2 + 4) * (7 * (9 - 3)/4) / 4 * (2 + 8) - 1\", # Valid\n",
        "    \"3--4\",                     # Invalid\n",
        "    \"3-(-4)\",                   # Valid\n",
        "    \"2**3**4\",                  # Valid\n",
        "    \"+5\",                       # Invalid\n",
        "    \"-5\",                       # Valid\n",
        "    \"-(5+3)\",                   # Valid\n",
        "    \"3 + -(5)\",                 # Invalid\n",
        "]"
      ],
      "metadata": {
        "id": "H3V5NrQEeIls"
      },
      "execution_count": 2,
      "outputs": []
    },
    {
      "cell_type": "code",
      "source": [
        "class ArithmeticExpressionValidator:\n",
        "    def __init__(self):\n",
        "        self.operators = {'+', '-', '*', '/', '**'}\n",
        "\n",
        "    def is_base(self, s):\n",
        "        \"\"\"\n",
        "        Memeriksa apakah string adalah angka (positif atau negatif) tanpa desimal.\n",
        "        \"\"\"\n",
        "        if not s:\n",
        "            return False\n",
        "        # Handle tanda - seperti -5 di awal\n",
        "        if s[0] in '-':\n",
        "            s = s[1:]\n",
        "        # Periksa char tersebut digit (bukan char maka False)\n",
        "        return s.isdigit()\n",
        "\n",
        "    def is_valid_expression(self, s):\n",
        "        \"\"\"\n",
        "        Metode utama untuk memvalidasi ekspresi.\n",
        "        \"\"\"\n",
        "        s = s.replace(' ', '')  # for Hapus spasi\n",
        "        return self._is_valid_expression(s)\n",
        "\n",
        "    def _is_valid_expression(self, s): #rekursif rule 2 dan 3\n",
        "        # print(s,not s,self.is_base(s),s.startswith( '(' ) and s.endswith( ')' ))\n",
        "        if not s:\n",
        "            return False\n",
        "\n",
        "        # Basis: jika string adalah base\n",
        "        if self.is_base(s):\n",
        "            return True\n",
        "\n",
        "        # Cek ekspresi dalam kurung\n",
        "        if s.startswith('(') and s.endswith(')'):\n",
        "            return self._is_valid_expression(s[1:-1])\n",
        "\n",
        "        if s.startswith('-(') and s.endswith(')'):\n",
        "            return self._is_valid_expression(s[2:-1])\n",
        "\n",
        "        # Cek operator '**' (dua karakter)\n",
        "        for i in range(len(s) - 1):\n",
        "            if s[i:i+2] == '**':\n",
        "                left = s[:i]\n",
        "                right = s[i+2:]\n",
        "                if self._is_valid_expression(left) and self._is_valid_expression(right): #rekursive kiri dan kanan\n",
        "                    return True\n",
        "\n",
        "        # Cek operator: +, -, *, /\n",
        "        for i in range(len(s)):\n",
        "            if s[i] in self.operators:\n",
        "                # Handle operator + dan -\n",
        "                if s[i] in {'+', '-'}:\n",
        "                    # Pastikan bagian kanan tidak dimulai dengan operator lainnya\n",
        "                    if i + 1 < len(s) and s[i+1] in self.operators:\n",
        "                        return False\n",
        "                left = s[:i]\n",
        "                right = s[i+1:]\n",
        "                # print(s)\n",
        "                if self._is_valid_expression(left) and self._is_valid_expression(right): #rekursive kiri dan kanan\n",
        "                    return True\n",
        "\n",
        "        return False"
      ],
      "metadata": {
        "id": "DbL-Nw95ePtt"
      },
      "execution_count": 3,
      "outputs": []
    },
    {
      "cell_type": "markdown",
      "source": [
        "###RULE 1<br>\n",
        "Base ada pada kode yang mengecek setiap angka adalah sebuah digit [-9,-8,-7,...,7,8,9]\n",
        "```\n",
        "def is_base(self, s):\n",
        "        \"\"\"\n",
        "        Memeriksa apakah string adalah angka (positif atau negatif) tanpa desimal.\n",
        "        \"\"\"\n",
        "        if not s:\n",
        "            return False\n",
        "        # Handle tanda - seperti -5 di awal s\n",
        "        if s[0] in '-':\n",
        "            s = s[1:]\n",
        "        # Periksa char tersebut digit (bukan char maka False)\n",
        "        return s.isdigit()\n",
        "```\n",
        "function tersebut akan dipanggil di awal function _is_valid_expression"
      ],
      "metadata": {
        "id": "G_GPssvreZvr"
      }
    },
    {
      "cell_type": "markdown",
      "source": [
        "###RULE 2\n",
        "mengecek tanda kurung akan dicek menggunakan kode\n",
        "```\n",
        "if s.startswith('(') and s.endswith(')'):\n",
        "    return self._is_valid_expression(s[1:-1])\n",
        "        \n",
        "if s.startswith('-(') and s.endswith(')'):\n",
        "    return self._is_valid_expression(s[2:-1])\n",
        "```\n"
      ],
      "metadata": {
        "id": "4GybPemUfO-V"
      }
    },
    {
      "cell_type": "markdown",
      "source": [
        "###RULE 3\n",
        "pengecekan operator akan dilakukan menggunakan kode\n",
        "```\n",
        "# Cek operator '**' (dua karakter)\n",
        "        for i in range(len(s) - 1):\n",
        "            if s[i:i+2] == '**':\n",
        "                left = s[:i]\n",
        "                right = s[i+2:]\n",
        "                if self._is_valid_expression(left) and self._is_valid_expression(right): #rekursive kiri dan kanan\n",
        "                    return True\n",
        "        \n",
        "        # Cek operator: +, -, *, /\n",
        "        for i in range(len(s)):\n",
        "            if s[i] in self.operators:\n",
        "                # Handle operator + dan -\n",
        "                if s[i] in {'+', '-'}:\n",
        "                    # Pastikan bagian kanan tidak dimulai dengan operator lainnya\n",
        "                    if i + 1 < len(s) and s[i+1] in self.operators:\n",
        "                        return False\n",
        "                left = s[:i]\n",
        "                right = s[i+1:]\n",
        "                # print(s)\n",
        "                if self._is_valid_expression(left) and self._is_valid_expression(right): #rekursive kiri dan kanan\n",
        "                    return True\n",
        "```\n",
        "kode tersebut akan memisahkan kiri dan kanan saat operator ditemukan dan melakukan recursive"
      ],
      "metadata": {
        "id": "RagSNrrrf64E"
      }
    },
    {
      "cell_type": "code",
      "source": [
        "validator = ArithmeticExpressionValidator()\n",
        "for arith in arithmetics:\n",
        "    print(f\"'{arith}': {validator.is_valid_expression(arith)}\")"
      ],
      "metadata": {
        "colab": {
          "base_uri": "https://localhost:8080/"
        },
        "id": "yxAe0nyNeT7F",
        "outputId": "5bb3b865-bf5e-462a-c51a-0a18339ffd1e"
      },
      "execution_count": 4,
      "outputs": [
        {
          "output_type": "stream",
          "name": "stdout",
          "text": [
            "'3 + 5': True\n",
            "'(3 + 5) + 6': True\n",
            "'2(/8 + 9)': False\n",
            "'(3 + (4 - )8)': False\n",
            "'2) -(4': False\n",
            "'8/4/2': True\n",
            "'3 + 4 * 5': True\n",
            "'(2 + 4) * (7 * (9 - 3)/4) / 4 * (2 + 8) - 1': True\n",
            "'3--4': False\n",
            "'3-(-4)': True\n",
            "'2**3**4': True\n",
            "'+5': False\n",
            "'-5': True\n",
            "'-(5+3)': True\n",
            "'3 + -(5)': False\n"
          ]
        }
      ]
    }
  ]
}